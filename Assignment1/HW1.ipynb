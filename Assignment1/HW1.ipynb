{
 "cells": [
  {
   "cell_type": "markdown",
   "metadata": {},
   "source": [
    "# HW1 - Higher order functions and Typing\n",
    "## https://www.cs.bgu.ac.il/~ppl172\n",
    "\n",
    "Provide your answers in each cell of this notebook marked with **answer**.  \n",
    "Whenever justifications are requested, write your explanation clearly and concisely.\n",
    "\n",
    "When you write TypeScript code, make sure it passes compilation (tsc) with no type checking error.\n",
    "\n",
    "All the places where answers are expected are marked with '@@@'."
   ]
  },
  {
   "cell_type": "markdown",
   "metadata": {},
   "source": [
    "# Q1 Theoretical Questions\n",
    "### Q1.1 Type Relations \n",
    "\n",
    "* What is the intersection of the types denoted by the following two expressions:\n",
    "  \n",
    "  `{a:number}[]` and `{b:string}[]`\n",
    "  \n",
    "  Describe values in the type (give examples, characterize them) and write a TypeScript type expression that denotes this intersection.\n",
    "  "
   ]
  },
  {
   "cell_type": "markdown",
   "metadata": {},
   "source": [
    "### 1.1 Answer\n",
    "\n",
    "the intersection type is:    type test={a:number, b:string}[]\n",
    "\n",
    "type T2= {a:number}&{b:string}\n",
    "let V1:test = [{a:3, b:\"zohar\"}, {a:4, b:\"or\"}];\n",
    "let real_v1 :T2 = V1;\n",
    "console.log(real_v1);\n",
    "\n",
    "\n",
    "An example for using the type test:\n",
    "3 example that fit to the type test:\n",
    "\n",
    "1)\n",
    "\n",
    "type test={a:number, b:string}[];\n",
    "type T2= {a:number}[]&{b:string}[];\n",
    "\n",
    "\n",
    "\n",
    "\n",
    "let ex1:test = [{a:3, b:\"zohar\"}, {a:4, b:\"or\"}];\n",
    "let real_ex1 :T2 = ex1;\n",
    "console.log(real_ex1);\n",
    "\n",
    "2)\n",
    "let ex2:test = [{a:0, b:\"\"}, {a:0, b:\"ppl\"}];\n",
    "let real_ex2 :T2 = ex2;\n",
    "console.log(real_ex2);\n",
    "\n",
    "3)\n",
    "\n",
    "let ex3:test = [{a:9000000,b:\"undefined\"}];\n",
    "let real_ex3 :T2 = ex3;\n",
    "console.log(real_ex3);\n",
    "\n",
    "We can see that the intersection of the types  `{a:number}[]` and `{b:string}[]` is array of maps of{a:number , b:string}\n",
    "\n"
   ]
  },
  {
   "cell_type": "markdown",
   "metadata": {},
   "source": [
    "### Q1.2 Subtypes\n",
    "\n",
    "* For each of the pairs (T1, T2) below, determine whether the type T1 is a subtype of T2 - justify your answer:\n",
    "\n",
    "```\n",
    "1.2.1 \n",
    "type T1 = {a:number, b:{}}\n",
    "type T2 = {a:number}\n",
    "\n",
    "1.2.2\n",
    "type T1 = {a:number, b:any}\n",
    "type T2 = {a:number}\n",
    "\n",
    "1.2.3\n",
    "type T1 = {a:number, b:undefined}\n",
    "type T2 = {a:number}\n",
    "```"
   ]
  },
  {
   "cell_type": "markdown",
   "metadata": {},
   "source": [
    "### 1.2 Answer\n",
    "1.2.1\n",
    "\n",
    "\n",
    "//T1 is a subtype of T2 - all the values in T1 satisfy the constraints of T2\n",
    "//Both types are maps  that contains key a:number execpt that in T1 there is also b:{}\n",
    "\n",
    "Example:\n",
    "type T2= {a:number}\n",
    "type T1 = {a:number, b:{}}\n",
    "let V1:T1 = {a:4,b:{}};\n",
    "let real_v1 :T2 = V1;\n",
    "console.log(real_v1);\n",
    "\n",
    "\n",
    "1.2.2\n",
    "\n",
    "\n",
    "//T1 is a subtype of T2 - all the values in T1 satisfy the constraints of T2\n",
    "//Both types are maps  that contains key a:number execpt that in T1 there is also type b:any\n",
    "\n",
    "Example:\n",
    "type T2= {a:number}\n",
    "type T1 = {a:number, b:string}\n",
    "let V2:T1 = {a:4,b:\"zohar\"};\n",
    "let real_v2:T2 = V2;\n",
    "console.log(real_v2);\n",
    "\n",
    "1.2.3\n",
    "\n",
    "\n",
    "//T1 is a subtype of T2 - all the values in T1 satisfy the constraints of T2\n",
    "//Both types are maps  that contains key a:number execpt that in T1 there is also type b:undefined\n",
    "Example:\n",
    "type T2= {a:number}\n",
    "type T1 = {a:number, b:undefined}\n",
    "let V3:T1 = {a:4,b:undefined};\n",
    "let real_v3 :T2 = V3;\n",
    "console.log(real_v3);\n",
    "-"
   ]
  },
  {
   "cell_type": "markdown",
   "metadata": {},
   "source": [
    "### Q1.3 Type Inference\n",
    "\n",
    "* Write the type of the following values as a TypeScript type expression:\n",
    "  * let v1 = `[{a:1}]`,\n",
    "  *     v2 = `{a:[1]}`\n",
    "  *     v3 = `x => x / 2`,\n",
    "  *     v4 = `(f, x) => f(f(x))`"
   ]
  },
  {
   "cell_type": "markdown",
   "metadata": {},
   "source": [
    "### 1.3 Answer\n",
    "\n",
    "Type of v1 is: \n",
    "\n",
    "type v1={a:number}[];\n",
    "```\n",
    "\n",
    "Type of v2 is:\n",
    "```\n",
    "type v2={a:number[]};\n",
    "```\n",
    "\n",
    "Type of v3 is:\n",
    "```\n",
    "type v3 = (x:number)=>number;\n",
    "```\n",
    "\n",
    "Type of v4 is:\n",
    "```\n",
    "type v=<T>(f:((t:T)=>T),x:T)=>T;"
   ]
  },
  {
   "cell_type": "markdown",
   "metadata": {},
   "source": [
    "* Compare the expression in `v3` and `v4` and explain when the inferred type expression contains type variables."
   ]
  },
  {
   "cell_type": "markdown",
   "metadata": {},
   "source": [
    "**Answer:**\n",
    "\n",
    "For v3 we know x should be a number since that the only type we can divide by 2 while in v4 all we know is that f() can recieve a variable of some type and return the same type . However we cannot know what the type of x, So we mark it as T type variable "
   ]
  },
  {
   "cell_type": "markdown",
   "metadata": {},
   "source": [
    "### Q1.4 Function Type Inference\n",
    "\n",
    "Consider the following function:"
   ]
  },
  {
   "cell_type": "code",
   "execution_count": 1,
   "metadata": {
    "collapsed": false
   },
   "outputs": [
    {
     "data": {
      "text/plain": [
       "true"
      ]
     },
     "execution_count": 1,
     "metadata": {},
     "output_type": "execute_result"
    }
   ],
   "source": [
    "const invokeN1 = (f, n) => \n",
    "    n === 0 ? (x) => x : (x) => f(invokeN1(f,n-1)(x))"
   ]
  },
  {
   "cell_type": "markdown",
   "metadata": {},
   "source": [
    "  * Describe what the function computes in words\n",
    "  * Write the type of the function invokeN."
   ]
  },
  {
   "cell_type": "markdown",
   "metadata": {},
   "source": [
    "### 1.4 Answer\n",
    "\n",
    "The function compose f(x) n times.\n",
    "We can see that the function is recursive and halt when n==0, it get as a parameter function f and a number n of the times to do the function   \n",
    "the type is:\n",
    "<T>(f:(x:T)=>T, n:number)=> (x:T) =>T\n",
    "The function get a function f with type T and return type T that the function that we do recursively and a number x for the time the function will compose. \n"
   ]
  },
  {
   "cell_type": "markdown",
   "metadata": {},
   "source": [
    "### Q1.5 Types and Values\n",
    "\n",
    "* **1.5.1**: Is it possible to design a type in TypeScript that denotes the empty set using the constructs described in class?"
   ]
  },
  {
   "cell_type": "markdown",
   "metadata": {},
   "source": [
    "* **Answer 1.5.1**:\n",
    "\n",
    "type a=number;\n",
    "type b=string;\n",
    "type c=a&b;\n",
    "\n",
    "That possible ,The reason for that is if we define a:number and also a:string that impossible because a cannot be a number and also string then cutting of this sets is empty."
   ]
  },
  {
   "cell_type": "markdown",
   "metadata": {},
   "source": [
    "* **1.5.2** Is it possible to design a type in TypeScript that denotes a finite set of 5 values?"
   ]
  },
  {
   "cell_type": "markdown",
   "metadata": {},
   "source": [
    "* **Answer 1.5.2**:\n",
    "Yes, that possible. we can define 5 literal and union all of them.\n",
    "example :type direction=\"North\"|\"south\"|\"east\"|\"west\"|\"none\";"
   ]
  },
  {
   "cell_type": "markdown",
   "metadata": {},
   "source": [
    "* **1.5.3** Is it possible to design a type in TypeScript that denotes the set of even numbers?"
   ]
  },
  {
   "cell_type": "markdown",
   "metadata": {},
   "source": [
    "* **Answer 1.5.3**:\n",
    "\n",
    "No,That impossible because set of even number is infinite group and we cannot declare type as infinite group.\n",
    "Also if we want to denote the set of even numbers we should declare a function that check if the numbers are even but we cannot declare type by function."
   ]
  },
  {
   "cell_type": "markdown",
   "metadata": {},
   "source": [
    "# Q2 Functional Abstractions over Trees\n",
    "\n",
    "Consider the definition of the inductive Tree data type.\n",
    "\n",
    "The set of Tree values is defined inductively as follows:\n",
    "* There is no empty tree.\n",
    "* The smallest tree is a tree with no children - a single node containing a single data element denoted $leaf(v)$.\n",
    "* For a set of trees $t_1, \\ldots, t_n$ and a data element $v_0$, one can construct a new tree whose root is has value $v_0$ and children $(t_1, \\ldots, t_n)$ - denoted $tree(v_0, (t_1, \\ldots, t_n))$.\n",
    "\n",
    "In this inductive definition, the height of the trees determines the inductive size of trees. The height of a tree is defined inductively as:\n",
    "* The height of a tree with no children is 0: $h(leaf(v)) = 0$.\n",
    "* For a tree with children, the height of the tree is 1 more than the max height of the children:\n",
    "  $h(tree(v_0, (t_1, \\ldots, t_n))) = 1 + max_{i \\in \\{1 \\ldots n\\}} h(t_i)$\n",
    "  \n",
    "Other properties or computations on trees have a similar inductive definition."
   ]
  },
  {
   "cell_type": "markdown",
   "metadata": {},
   "source": [
    "We write the following definition of a type denoting the set of Tree values as follows:"
   ]
  },
  {
   "cell_type": "code",
   "execution_count": 2,
   "metadata": {
    "collapsed": false
   },
   "outputs": [
    {
     "data": {
      "text/plain": [
       "{ root: 1,\n",
       "  children: [ { root: 2, children: [] }, { root: 5, children: [Object] } ] }"
      ]
     },
     "execution_count": 2,
     "metadata": {},
     "output_type": "execute_result"
    }
   ],
   "source": [
    "interface Tree<T> {\n",
    "    root: T;\n",
    "    children: Tree<T>[];\n",
    "}\n",
    "\n",
    "{\n",
    "    let b: Tree<number> = {\n",
    "        root: 1,\n",
    "        children: [\n",
    "            {root: 2, children: []},\n",
    "            {root: 5, children: [\n",
    "                {root: 4, children:[]}\n",
    "            ]}\n",
    "        ]\n",
    "    }\n",
    "    b;\n",
    "}"
   ]
  },
  {
   "cell_type": "markdown",
   "metadata": {},
   "source": [
    "We define the following functions to manipulate Tree values - providing an abstract interface for trees.\n",
    "It consists of two constructors - for leaf trees and non-leaf trees - and three accessors:"
   ]
  },
  {
   "cell_type": "code",
   "execution_count": 3,
   "metadata": {
    "collapsed": false
   },
   "outputs": [
    {
     "data": {
      "text/plain": [
       "true"
      ]
     },
     "execution_count": 3,
     "metadata": {},
     "output_type": "execute_result"
    }
   ],
   "source": [
    "const makeLeaf : <T>(v:T)=>Tree<T> =\n",
    "    v => {return {root: v, children:[]};}\n",
    "    \n",
    "const makeTree : <T>(v:T, children:Tree<T>[])=>Tree<T> =\n",
    "    (v, children) => { return {root:v, children:children}}\n",
    "\n",
    "const treeRoot : <T>(t: Tree<T>)=>T =\n",
    "    t => t.root;\n",
    "\n",
    "const treeChildren: <T>(t: Tree<T>)=>Tree<T>[] =\n",
    "    t => t.children;\n",
    "    \n",
    "const treeLeaf : <T>(t: Tree<T>)=>boolean =\n",
    "    t => t.children.length === 0;"
   ]
  },
  {
   "cell_type": "code",
   "execution_count": 4,
   "metadata": {
    "collapsed": false
   },
   "outputs": [
    {
     "data": {
      "text/plain": [
       "true"
      ]
     },
     "execution_count": 4,
     "metadata": {},
     "output_type": "execute_result"
    }
   ],
   "source": [
    "treeLeaf(makeLeaf(5))"
   ]
  },
  {
   "cell_type": "markdown",
   "metadata": {},
   "source": [
    "A function manipulating Tree values will typically perform a recursion similar to that observed in the definition of the `treeHeight` function:"
   ]
  },
  {
   "cell_type": "code",
   "execution_count": 5,
   "metadata": {
    "collapsed": false
   },
   "outputs": [
    {
     "data": {
      "text/plain": [
       "1"
      ]
     },
     "execution_count": 5,
     "metadata": {},
     "output_type": "execute_result"
    }
   ],
   "source": [
    "import {map as map1, reduce as reduce12} from 'ramda'\n",
    "\n",
    "const treeHeight : <T>(t:Tree<T>)=>number =\n",
    "    t => treeLeaf(t) ? \n",
    "            0 : \n",
    "            1 + reduce12(Math.max, 0, map1(treeHeight, treeChildren(t)));\n",
    "            \n",
    "treeHeight(makeTree(1, [makeLeaf(2), makeLeaf(3)]))"
   ]
  },
  {
   "cell_type": "code",
   "execution_count": 6,
   "metadata": {
    "collapsed": false
   },
   "outputs": [
    {
     "data": {
      "text/plain": [
       "2"
      ]
     },
     "execution_count": 6,
     "metadata": {},
     "output_type": "execute_result"
    }
   ],
   "source": [
    "treeHeight({ root: 1, children: [ { root: 2, children: [] }, { root: 3, children: [{root: 4, children:[]}] } ] })"
   ]
  },
  {
   "cell_type": "markdown",
   "metadata": {},
   "source": [
    "Other functions that operate on tree values will adopt a similar pattern of recursion:\n",
    "\n",
    "```\n",
    "const f: <T1,T2>(t:Tree<T1>)=>T2 =\n",
    "    t => treeLeaf(t) ? <basecase> : ...map(f, t.children)...;\n",
    "```\n",
    "\n",
    "In this question, we define **functional abstractions** over Tree values similar to the sequence interface we used over Array values - `map, filter, forEach, some, every, reduce`.\n",
    "\n",
    "We first define the type of the functions that will be passed as arguments to these higher order functions:"
   ]
  },
  {
   "cell_type": "code",
   "execution_count": 7,
   "metadata": {
    "collapsed": false
   },
   "outputs": [
    {
     "data": {
      "text/plain": [
       "true"
      ]
     },
     "execution_count": 7,
     "metadata": {},
     "output_type": "execute_result"
    }
   ],
   "source": [
    "type Command<T> = (x:T)=>void;\n",
    "type Transformer<T1,T2> = (x:T1)=>T2;\n",
    "type Predicate<T> = (x:T)=>boolean;\n",
    "type Accumulator<T1,T2> = (acc:T1, item:T2)=>T1;"
   ]
  },
  {
   "cell_type": "markdown",
   "metadata": {},
   "source": [
    "**Define the following functional abstractions over trees.**\n",
    "\n",
    "For each function:\n",
    "* provide the function definition \n",
    "* and four good test covering the code of the function as much as possible.\n",
    "\n",
    "Make sure your solution follows Functional Programming practice with no mutation to any variable."
   ]
  },
  {
   "cell_type": "markdown",
   "metadata": {},
   "source": [
    "### Question 2.1 treeMap\n",
    "\n",
    "`treeMap` operates over a Tree value.  It returns a new tree of the same shape as its parameter, where the value of each node is transformed by `f`."
   ]
  },
  {
   "cell_type": "code",
   "execution_count": 8,
   "metadata": {
    "collapsed": false
   },
   "outputs": [
    {
     "data": {
      "text/plain": [
       "true"
      ]
     },
     "execution_count": 8,
     "metadata": {},
     "output_type": "execute_result"
    }
   ],
   "source": [
    "// Answer 2.1\n",
    "\n",
    "declare var require: any\n",
    "const assert = require('assert');\n",
    "\n",
    "import {map as map2} from 'ramda'\n",
    "const treeMap: <T1,T2>(f: Transformer<T1,T2>, tree: Tree<T1>)=>Tree<T2> = \n",
    "    (f, tree) =>{return  treeLeaf(tree) ? \n",
    "            makeTree(f(tree.root),[]): \n",
    "            makeTree(f(tree.root), map2( children=>treeMap(f,children) ,treeChildren(tree)) );\n",
    "                }\n"
   ]
  },
  {
   "cell_type": "code",
   "execution_count": 9,
   "metadata": {
    "collapsed": false
   },
   "outputs": [
    {
     "data": {
      "text/plain": [
       "undefined"
      ]
     },
     "execution_count": 9,
     "metadata": {},
     "output_type": "execute_result"
    }
   ],
   "source": [
    "\n",
    "// treeMap test 1\n",
    "let t100:Tree<number> = makeTree(1, [makeTree(2,[makeLeaf(3)]),makeLeaf(4)])\n",
    "let square11:(t100:number)=>number = (x)=>x*x;\n",
    "let tree:Tree<number>=treeMap(square11,t100);\n",
    " \n",
    "let high:number=treeHeight(t100);\n",
    "let high2:number=treeHeight(tree);\n",
    "assert.deepEqual(high,high2,\"Error\");\n",
    "    "
   ]
  },
  {
   "cell_type": "code",
   "execution_count": 10,
   "metadata": {
    "collapsed": false
   },
   "outputs": [
    {
     "data": {
      "text/plain": [
       "undefined"
      ]
     },
     "execution_count": 10,
     "metadata": {},
     "output_type": "execute_result"
    }
   ],
   "source": [
    "\n",
    "// treeMap test 2\n",
    "import {map as map3, reduce as reduce2} from 'ramda'\n",
    "let y11:Tree<number>= makeTree(10,[makeLeaf(5),makeLeaf(2)]);\n",
    "let z11=treeMap((x)=>{x+3;}, y11);\n",
    "\n",
    "\n",
    "const countNode1: <T>(init: T, tree: Tree<T>)=>T = \n",
    "    (init, tree) =>{\n",
    "    return treeLeaf(tree)? \n",
    "    init+1:\n",
    "    reduce2((acc,t)=>countNode1(acc,t), init+1 ,treeChildren(tree))  ;\n",
    "}\n",
    "\n",
    "const testNode:<T1,T2>(t :Tree<T1>,t2:Tree<T2>)=>void=(t1,t2)=>\n",
    "{\n",
    "let nodes1:number=countNode1(0, t1);\n",
    "let nodes2:number=countNode1(0, t2); \n",
    "    assert.deepEqual(nodes1,nodes2, \"Error\");\n",
    "\n",
    "}\n",
    "testNode(y11,z11);\n"
   ]
  },
  {
   "cell_type": "code",
   "execution_count": 11,
   "metadata": {
    "collapsed": false
   },
   "outputs": [
    {
     "data": {
      "text/plain": [
       "undefined"
      ]
     },
     "execution_count": 11,
     "metadata": {},
     "output_type": "execute_result"
    }
   ],
   "source": [
    "// treeMap test 3\n",
    "let z8:Tree<number>=makeLeaf(5);\n",
    "let add:(x:number)=>number = (x)=>x+100000;\n",
    "let t21:Tree<number>=treeMap(add,z8);\n",
    "\n",
    "const testHeight:<T1,T2>(t1 :Tree<T1>,t2:Tree<T2>)=>void=(t1,t2)=>\n",
    "{let height1:number=treeHeight(t1);\n",
    "let height2:number=treeHeight(t2);\n",
    "assert.deepEqual(height1,height2,\"Error\");\n",
    "}\n",
    "\n",
    "testHeight(z8, t21);\n",
    "\n",
    "\n"
   ]
  },
  {
   "cell_type": "code",
   "execution_count": 12,
   "metadata": {
    "collapsed": false
   },
   "outputs": [
    {
     "data": {
      "text/plain": [
       "undefined"
      ]
     },
     "execution_count": 12,
     "metadata": {},
     "output_type": "execute_result"
    }
   ],
   "source": [
    "// treeMap test 4\n",
    "let t1 :Tree<number>= makeTree(1, [makeTree(2,[makeLeaf(3) ]),makeLeaf(4),makeLeaf(11)]);\n",
    "let t2:Tree<number>=treeMap((x)=>x,t1);\n",
    "assert.deepEqual(t1,t2, \"Error\");\n",
    "\n"
   ]
  },
  {
   "cell_type": "markdown",
   "metadata": {},
   "source": [
    "### Question 2.2 treeForEachDF\n",
    "\n",
    "`treeForEachDF` operates over a Tree value.  It traverses the tree node by node in depth-first order and applies the command `f` on each one.  The side effects of the command are observed in depth-first order."
   ]
  },
  {
   "cell_type": "code",
   "execution_count": 13,
   "metadata": {
    "collapsed": false
   },
   "outputs": [
    {
     "data": {
      "text/plain": [
       "true"
      ]
     },
     "execution_count": 13,
     "metadata": {},
     "output_type": "execute_result"
    }
   ],
   "source": [
    "// Answer 2.2 \n",
    "\n",
    "const treeForEachDF: <T>(f: Command<T>, tree: Tree<T>)=>void = \n",
    "    (f, tree) => {\n",
    "    treeLeaf(tree)===true?\n",
    "    f(tree.root):\n",
    "    f(tree.root);\n",
    "    tree.children.forEach(children=>treeForEachDF(f,children));\n",
    "    \n",
    "}   \n",
    "    "
   ]
  },
  {
   "cell_type": "code",
   "execution_count": 14,
   "metadata": {
    "collapsed": false
   },
   "outputs": [
    {
     "data": {
      "text/plain": [
       "undefined"
      ]
     },
     "execution_count": 14,
     "metadata": {},
     "output_type": "execute_result"
    }
   ],
   "source": [
    "// treeForEachDF test 1\n",
    "let s9: Tree<number> = {\n",
    "        root: 300,\n",
    "        children:[{\n",
    "    root: -2,\n",
    "    children: [ \n",
    "      {root: 5, \n",
    "       children: [{root:5 , children: [\n",
    "       {root:100 , children: [] }] }] }\n",
    "    \n",
    "    ]\n",
    "}] \n",
    "        }\n",
    "\n",
    "const testHeight2:<T1>(t1:Tree<T1>, f:<T>(f: Command<T>, tree: Tree<T>)=>void\n",
    " , f2: Command<T1>)=>void=(t1, f, f2)=>{\n",
    "let high1:number=treeHeight(t1);\n",
    "f(f2,t1);\n",
    "let high2:number=treeHeight(t1);\n",
    "assert.deepEqual(high1, high2);\n",
    "}\n",
    "  \n",
    "testHeight2(s9, treeForEachDF , (x)=>{x+1;});\n",
    "\n",
    "\n"
   ]
  },
  {
   "cell_type": "code",
   "execution_count": 41,
   "metadata": {
    "collapsed": false
   },
   "outputs": [
    {
     "data": {
      "text/plain": [
       "undefined"
      ]
     },
     "execution_count": 41,
     "metadata": {},
     "output_type": "execute_result"
    }
   ],
   "source": [
    "\n",
    "// treeForEachDF test 2\n",
    "import {map as map4 , reduce as reduce3} from 'ramda'\n",
    "\n",
    "        let s0: Tree<number> = {\n",
    "        root: 4,\n",
    "        children:[{\n",
    "    root: 1,\n",
    "    children: [ \n",
    "      {root: 2, \n",
    "       children: [{root:5 , children: [] }] }\n",
    "    ]\n",
    "}] \n",
    "        }\n",
    "let co1:number=0;\n",
    "treeForEachDF((x)=>{co1++;} ,s0);\n",
    "\n",
    "\n",
    "\n",
    "const countNode2: <T>(init: T, tree: Tree<T>)=>T = \n",
    "    (init, tree) =>{\n",
    "    return treeLeaf(tree)? \n",
    "    init+1:\n",
    "    reduce3((acc,t)=>countNode2(acc,t), init+1 ,treeChildren(tree))  \n",
    "}\n",
    "\n",
    "let nodes1:number=countNode2(0, s0);\n",
    "assert.ok(nodes1===4);\n",
    "\n",
    "\n",
    "\n"
   ]
  },
  {
   "cell_type": "code",
   "execution_count": 40,
   "metadata": {
    "collapsed": false
   },
   "outputs": [
    {
     "data": {
      "text/plain": [
       "undefined"
      ]
     },
     "execution_count": 40,
     "metadata": {},
     "output_type": "execute_result"
    }
   ],
   "source": [
    "\n",
    "// treeForEachDF test 3\n",
    "        let s2: Tree<number> = {\n",
    "        root: 300,\n",
    "        children:[] \n",
    "        }\n",
    "let h1:number= treeRoot(s2);\n",
    "let co:number=0;\n",
    "treeForEachDF((x)=>{co++;} ,s2);\n",
    "let h2:number=treeRoot(s2);\n",
    "assert.ok(co, 1);\n",
    "\n",
    "\n",
    "\n",
    "\n"
   ]
  },
  {
   "cell_type": "code",
   "execution_count": 17,
   "metadata": {
    "collapsed": false
   },
   "outputs": [
    {
     "data": {
      "text/plain": [
       "undefined"
      ]
     },
     "execution_count": 17,
     "metadata": {},
     "output_type": "execute_result"
    }
   ],
   "source": [
    "\n",
    "// treeForEachDF test 4\n",
    "  const s3: Tree<number> = {\n",
    "    root: 0,\n",
    "    children: [ \n",
    "      {root: 2, \n",
    "       children: [{root: 4, children: [] }] },\n",
    "      {root: 1, \n",
    "       children: [{root: 3, children: [] }] }\n",
    "    ]\n",
    "};\n",
    "let sum1:number=0;\n",
    "treeForEachDF((x)=>{sum1=sum1+x;},s3 );\n",
    "assert.deepEqual(sum1,10,\"Error\");"
   ]
  },
  {
   "cell_type": "markdown",
   "metadata": {},
   "source": [
    "### Question 2.3 treeReduceDF\n",
    "\n",
    "`treeReduceDF` operates in a way similar to `reduce` on arrays: it traverses the tree in depth-first order, and at each node `t`, it computes `f(acc, t.root)` and continues with the value returned as the value of `acc` passed in the next node."
   ]
  },
  {
   "cell_type": "code",
   "execution_count": 18,
   "metadata": {
    "collapsed": false
   },
   "outputs": [
    {
     "data": {
      "text/plain": [
       "true"
      ]
     },
     "execution_count": 18,
     "metadata": {},
     "output_type": "execute_result"
    }
   ],
   "source": [
    "\n",
    "import {map5, reduce as reduce4} from 'ramda'\n",
    "\n",
    "const treeReduceDF: <T1,T2>(f: Accumulator<T1,T2>, init: T1, tree: Tree<T2>)=>T1 = \n",
    "    (f, init, tree) =>{\n",
    "    return treeLeaf(tree)? \n",
    "        f(init, tree.root)\n",
    "    :\n",
    "reduce4((acc,t)=>treeReduceDF(f,acc,t), f(init,tree.root) ,treeChildren(tree))\n",
    "\n",
    "}\n",
    "    \n"
   ]
  },
  {
   "cell_type": "code",
   "execution_count": 19,
   "metadata": {
    "collapsed": false
   },
   "outputs": [
    {
     "data": {
      "text/plain": [
       "undefined"
      ]
     },
     "execution_count": 19,
     "metadata": {},
     "output_type": "execute_result"
    }
   ],
   "source": [
    "\n",
    "// treeReduceDF test 1\n",
    "\n",
    "let o1: Tree<string>= { root: '0', children: [ {root: \"2\", children: [{root:\"4\", children: [] }] }\n",
    "                                      , {root: \"1\", children: [{root: \"3\", children: [] }] } ] }\n",
    "let jso=JSON.stringify(o1);\n",
    "const concrateString:(a:string,b:string)=>string=(a,b)=>{return a+b;}\n",
    "assert.deepEqual(jso, JSON.stringify(o1));\n",
    "assert.deepEqual(treeReduceDF(concrateString, \"\",o1), \"02413\");\n",
    "    \n",
    "\n"
   ]
  },
  {
   "cell_type": "code",
   "execution_count": 20,
   "metadata": {
    "collapsed": false
   },
   "outputs": [
    {
     "data": {
      "text/plain": [
       "undefined"
      ]
     },
     "execution_count": 20,
     "metadata": {},
     "output_type": "execute_result"
    }
   ],
   "source": [
    "// treeReduceDF test 2\n",
    "let s: Tree<number> = {\n",
    "        root: 300,\n",
    "        children:[{\n",
    "    root: -2,\n",
    "    children: [ \n",
    "      {root: 5, \n",
    "       children: [{root:5 , children: [\n",
    "       {root:100 , children: [] }] }] }\n",
    "    \n",
    "    ]\n",
    "}] \n",
    "        }\n",
    "const square4:(x:number,y:number)=>number = (x,y)=>{return x*5+y;};\n",
    "let hight:number=treeHeight(s);\n",
    "let newHigh:number=treeHeight(s);\n",
    "assert.deepEqual(hight, newHigh, \"not equal\");\n",
    "assert.deepEqual(treeReduceDF(square4, 0,s), 187500, \"Error\");\n"
   ]
  },
  {
   "cell_type": "code",
   "execution_count": 21,
   "metadata": {
    "collapsed": false
   },
   "outputs": [
    {
     "data": {
      "text/plain": [
       "undefined"
      ]
     },
     "execution_count": 21,
     "metadata": {},
     "output_type": "execute_result"
    }
   ],
   "source": [
    "\n",
    "// treeReduceDF test 3\n",
    "import {reduce} from 'ramda'\n",
    "let t4:Tree<number> = makeTree(665, [makeTree(2,[makeLeaf(5) ])])\n",
    "let square:(x:number, y:number)=>number = (x,y)=>{return x+y;}\n",
    "\n",
    "const countNode: <T>(init:number, tree: Tree<T>)=>T = \n",
    "    (init, tree) =>{\n",
    "    return treeLeaf(tree)? \n",
    "        init+1:\n",
    "    reduce((acc,t)=>countNode(acc,t), init+1 ,treeChildren(tree))  \n",
    "}\n",
    "\n",
    "let nodes:number=countNode(0, t4);\n",
    "assert.ok(nodes==3);\n"
   ]
  },
  {
   "cell_type": "code",
   "execution_count": 22,
   "metadata": {
    "collapsed": false
   },
   "outputs": [
    {
     "data": {
      "text/plain": [
       "undefined"
      ]
     },
     "execution_count": 22,
     "metadata": {},
     "output_type": "execute_result"
    }
   ],
   "source": [
    "// treeReduceDF test 4\n",
    "let t :Tree<number>= makeTree(665, [makeTree(2,[makeLeaf(5) ]),makeLeaf(4) ]);\n",
    "let sum:number=treeReduceDF(square,0,t);\n",
    "\n",
    "assert.ok(sum==676);\n",
    "\n",
    "\n"
   ]
  },
  {
   "cell_type": "markdown",
   "metadata": {},
   "source": [
    "### Question 2.4\n",
    "\n",
    "Why do we need to specify the order of traversal of the tree for `treeReduceDF`?\n",
    "\n",
    "Provide examples showing that with a different order of traversal, we could obtain different results when invoking `treeReduce`\n",
    "with the same parameters."
   ]
  },
  {
   "cell_type": "markdown",
   "metadata": {},
   "source": [
    "### Answer 2.4\n",
    "\n",
    " const s: Tree<number> = {\n",
    "    root: 0,\n",
    "    children: [ \n",
    "      {root: 2, \n",
    "       children: [{root: 4, children: [] }] },\n",
    "      {root: 1, \n",
    "       children: [{root: 3, children: [] }] }\n",
    "    ]\n",
    "};If we define a function that concatenate a string and return this string. the initial value is empty string \" \" for the order \n",
    "Another order of DFS by the function treeReduceDF we get the string :\n",
    "\"0, 2, 4, 1, 3\";\n",
    "In another order BFS we get \"0, 2, 1, 4, 3 \"\n",
    "We can see that with different order of traversal we got diffrent result. \n"
   ]
  },
  {
   "cell_type": "markdown",
   "metadata": {},
   "source": [
    "# Question 3: Runtime Type Checker\n",
    "\n",
    "We have practiced with TypeScript - a compiler which operates over JavaScript programs enriched with type annotations in the TypeScript type language and which performs type checking at compilation time, and outputs a JavaScript program as output.\n",
    "\n",
    "The TypeScript compiler (tsc) performs what is called **static code analysis** - an analysis of a program performed without executing the program itself.\n",
    "\n",
    "In this question, we design a **runtime type checker** - a function that verifies the type of a value at runtime - that is, check **at runtime** that a value belongs to a type.\n",
    "\n",
    "We call this function:\n",
    "\n",
    "```\n",
    "typeCheck(jsValue, typeExpression)=>boolean;\n",
    "```\n",
    "\n",
    "We first need to understand that this capability does **not** exist with TypeScript.\n",
    "TypeScript is a compiler - it provides no runtime library, it does not exist at runtime.\n",
    "After a TypeScript program is compiled into JavaScript, there are no types left in the JavaScript program, \n",
    "no type expressions and no type names.\n",
    "\n",
    "The values we want to type check at runtime, typically, will be JSON values obtained by reading from a file or from an HTTP call to a server returning JSON values.\n",
    "\n",
    "To achieve this goal, we need to represent type expressions as concrete values which will be passed to our function `typeCheck`.\n",
    "Remember - at runtime, TypeScript type expressions do not exist - so we need to create our own type expressions."
   ]
  },
  {
   "cell_type": "markdown",
   "metadata": {},
   "source": [
    "### Question 3.1 Concrete Representation of Type Expressions\n",
    "\n",
    "Let us consider a subset of the TypeScript type language that only includes the following type expressions:\n",
    "* Atomic type expressions: `number`, `string`, `boolean`\n",
    "* Arrays: for any type expression `T`, `T[]` is an array type expression.\n",
    "* Maps: for any type expressions T1,...,Tn and any strings s1,...sn - `{s1:T1, ..., sn:Tn}` is a map type expression.\n",
    "\n",
    "This is an inductive definition of the set of type expression values.\n",
    "\n",
    "Compared to the TypeScript type system we discussed in class, we do not consider function types, type unions, intersection, generic types, recursive types, undefined, any and named types.\n",
    "\n",
    "Our objective is to design a TypeScript type whose values are type expressions in this limited subset.\n",
    "We will also define functions to operate over this data type (constructors and accessors)."
   ]
  },
  {
   "cell_type": "markdown",
   "metadata": {},
   "source": [
    "For example, we want to define a value that represents the type expression `string[]`.\n",
    "We will use the following value:\n",
    "\n",
    "```\n",
    "const teSA = {\n",
    "    tag: \"array\",\n",
    "    itemType: \"string\"\n",
    "};\n",
    "```\n",
    "\n",
    "This value is the concrete representation of the type expression.\n",
    "We can pass it as an argument to the `typeCheck` function as follows:\n",
    "\n",
    "```\n",
    "typeCheck([\"aa\", \"bb\"], teSA); // true\n",
    "typeCheck([\"aa\", 1], teSA);    // false\n",
    "```\n",
    "\n",
    "We provide the following definitions using the acronym TE for Type Expression:"
   ]
  },
  {
   "cell_type": "code",
   "execution_count": 23,
   "metadata": {
    "collapsed": false
   },
   "outputs": [
    {
     "data": {
      "text/plain": [
       "true"
      ]
     },
     "execution_count": 23,
     "metadata": {},
     "output_type": "execute_result"
    }
   ],
   "source": [
    "// We adopt the Disjoint Union type pattern discussed in class.\n",
    "\n",
    "type TE = TeNumber | TeBoolean | TeString | TeArray | TeMap;\n",
    "\n",
    "// Atomic type expressions have no component\n",
    "interface TeNumber {\n",
    "    tag: \"number\";\n",
    "};\n",
    "interface TeBoolean {\n",
    "    tag: \"boolean\";\n",
    "};\n",
    "interface TeString {\n",
    "    tag: \"string\";\n",
    "};\n",
    "\n",
    "// Concrete representation of an Array Type Expression\n",
    "interface TeArray {\n",
    "    tag: \"array\";\n",
    "    itemType: TE;\n",
    "};"
   ]
  },
  {
   "cell_type": "markdown",
   "metadata": {},
   "source": [
    "**3.1** Complete the following type definition:"
   ]
  },
  {
   "cell_type": "code",
   "execution_count": 24,
   "metadata": {
    "collapsed": false
   },
   "outputs": [
    {
     "data": {
      "text/plain": [
       "true"
      ]
     },
     "execution_count": 24,
     "metadata": {},
     "output_type": "execute_result"
    }
   ],
   "source": [
    "// ANSWER 3.1: Complete the type definition\n",
    "interface TeMap {\n",
    "    tag: \"map\";\n",
    "    map:{key:string,itemType:TE}[];\n",
    "};"
   ]
  },
  {
   "cell_type": "markdown",
   "metadata": {},
   "source": [
    "### Question 3.2 Type Expression Constructors and Accessors\n",
    "\n",
    "We define an abstraction barrier around the `TE` data type in the form of constructors for type expressions\n",
    "of each type and accessors to retrieve the components of compound type expression values.\n",
    "\n",
    "Complete the types and definitions of the functions marked by @@@:"
   ]
  },
  {
   "cell_type": "code",
   "execution_count": 25,
   "metadata": {
    "collapsed": false
   },
   "outputs": [
    {
     "data": {
      "text/plain": [
       "true"
      ]
     },
     "execution_count": 25,
     "metadata": {},
     "output_type": "execute_result"
    }
   ],
   "source": [
    "// Constructors\n",
    "// ============\n",
    "\n",
    "const makeTeString : ()=>TeString = \n",
    "    () => { return {tag:\"string\"};}\n",
    "\n",
    "const makeTeNumber : ()=>TeNumber=\n",
    "    ()=>{return {tag:\"number\"};}\n",
    "\n",
    "\n",
    "const makeTeBoolean : ()=>TeBoolean=\n",
    "    ()=>{return {tag:\"boolean\"};} \n",
    "\n",
    "\n",
    "const makeTeArray : (itemType: TE)=>TeArray =\n",
    "    itemType => {return {tag: \"array\", itemType: itemType};}\n",
    "\n",
    "\n",
    "const  makeTeMap: (map:{key:string,itemType:TE}[])=>TeMap=\n",
    "    (map)=>{return {tag:\"map\", map:map};}\n",
    "\n",
    "\n",
    "// Type predicates\n",
    "// ===============\n",
    "const isTeNumber : (te:TE)=>boolean =\n",
    "    te => {return te.tag === \"number\";}\n",
    "\n",
    "const isTeBoolean : (te:TE)=>boolean=\n",
    "    te=>{return te.tag===\"boolean\";}\n",
    "\n",
    "\n",
    "const isTeString : (te:TE)=>boolean=\n",
    "    te=>{return te.tag===\"string\"}\n",
    "\n",
    "const isTeArray : (te:TE)=>boolean=\n",
    "    te=>{return te.tag===\"array\";}\n",
    "\n",
    "\n",
    "const isTeMap : (te:TE)=>boolean=\n",
    "    te=>{return te.tag===\"map\";}\n",
    "\n",
    "\n",
    "// Accessors\n",
    "// =========\n",
    "const teArrayItemType : (tea : TeArray)=>TE =\n",
    "    tea =>{return tea.itemType;}\n",
    "\n",
    "import {filter} from 'ramda'\n",
    "\n",
    "const teMapKey : (tem : TeMap, key: string)=> TE =\n",
    "    (tem, key) =>\n",
    "    {\n",
    "    let x= filter((cur)=>{return cur.key===key},tem.map)\n",
    "     return x[0].itemType;}\n",
    "\n"
   ]
  },
  {
   "cell_type": "code",
   "execution_count": 26,
   "metadata": {
    "collapsed": false
   },
   "outputs": [
    {
     "data": {
      "text/plain": [
       "undefined"
      ]
     },
     "execution_count": 26,
     "metadata": {},
     "output_type": "execute_result"
    }
   ],
   "source": [
    "// Test constructors @@@\n",
    "type test1={key:string,itemType:TE}[];\n",
    "let a:TeString=makeTeString();\n",
    "let n:TeNumber=makeTeNumber();\n",
    "let b8:TeArray=makeTeArray(n);\n",
    "\n",
    "let a18:TeString=makeTeString();\n",
    "let c18:TeBoolean=makeTeBoolean();\n",
    "let c28:TeArray=makeTeArray(makeTeArray(a18));\n",
    "let ma8:test1=[{key:\"c1\",itemType:c18},{key:\"c2\", itemType:c28}];\n",
    "let c8:TeMap=makeTeMap(ma8);\n",
    "\n",
    "let e:test1=[{key:\"a\", itemType:a},{key:\"b\",itemType:b8 }, {key:\"c\", itemType:c8}];\n",
    "let res:TeMap=makeTeMap(e);\n",
    "\n",
    "\n",
    "// Test accessors @@@\n",
    "\n",
    "\n",
    "let v=<TeArray>teMapKey(res,\"b\");\n",
    "let z=<TeMap>teMapKey(res,\"c\");\n",
    "let o=<TeArray>teMapKey(z, \"c2\");\n",
    "let g=<TeArray>teArrayItemType(o);\n",
    "\n",
    "assert.deepEqual(isTeString(teMapKey(res,\"a\")), true,\"Error\");\n",
    "assert.deepEqual(isTeArray(v), true,\"Error\");\n",
    "assert.deepEqual(isTeNumber(teArrayItemType(v)),true, \"Error\");\n",
    "assert.deepEqual(isTeMap(teMapKey(res,\"c\")), true,\"Error\");\n",
    "assert.deepEqual(isTeBoolean(teMapKey(z, \"c1\")), true, \"Error\");\n",
    "assert.deepEqual(isTeArray(teMapKey(z, \"c2\")), true, \"Error\");\n",
    "assert.deepEqual(isTeArray(teArrayItemType((o))), true, \"Error\");\n",
    "assert.deepEqual(isTeString(teArrayItemType(g)),true, \"Error\");\n",
    "\n",
    "\n",
    "\n",
    "\n",
    "\n",
    "\n",
    "\n",
    "\n"
   ]
  },
  {
   "cell_type": "markdown",
   "metadata": {},
   "source": [
    "Test these functions by constructing the value representing the following type expression and accessing its components:\n",
    "\n",
    "```\n",
    "{ a:string; b:number[]; c:{c1:boolean; c2:string[][]}}\n",
    "```"
   ]
  },
  {
   "cell_type": "markdown",
   "metadata": {},
   "source": [
    "### Question 3.3: typeChecker as a Recursive Algorithm\n",
    "\n",
    "We now design the type checker algorithm.\n",
    "Given a JavaScript value and a type expression value - we want to verify whether the value belongs to the type denoted by the type expression.\n",
    "\n",
    "We design the rules of type checking in an inductive manner - through structural induction on the structure of the type expression values.\n",
    "\n",
    "```\n",
    "Type Checker Algorithm: \n",
    "typeCheck(jsValue:any, te:TE)=>boolean\n",
    "Verify that jsValue belongs to the type denoted by te.\n",
    "\n",
    "if te is atomic:\n",
    "    if te is `number`: checkNumber(jsValue)\n",
    "    else if te is `string`: checkString(jsValue)\n",
    "    else if te is `boolean`: checkBoolean(jsValue)\n",
    "else te is a compound type expression:    \n",
    "    if te is an array: checkArray(jsValue, te)\n",
    "    if te is a map: checkMap(jsValue, te)\n",
    "```\n",
    "\n",
    "We know that this algorithm tests all possible values of the `te` parameter based on its type (a disjoint union type).\n",
    "\n",
    "We now turn to the definition of the sub-procedures in this definition:\n",
    "\n",
    "For atomic type expressions - we rely on the JavaScript introspection primitives - `typeof`:\n",
    "```\n",
    "checkNumber: \n",
    "checkNumber(jsValue:any)=>boolean:\n",
    "Verify that jsValue belongs to the set of numbers in JavaScript.\n",
    "\n",
    "    typeof jsValue === \"number\"\n",
    "```"
   ]
  },
  {
   "cell_type": "markdown",
   "metadata": {},
   "source": [
    "#### Answer 3.3.1\n",
    "\n",
    "Complete the algorithm definition (using the same pseudo code format as the definitions above):\n",
    "* \n",
    "```\n",
    "checkString:\n",
    "```\n",
    "checkString(jsValue:any)=>boolean:\n",
    "Verify that jsValue belongs to the set of string in JavaScript.\n",
    "\n",
    "    typeof jsValue === \"string\"\n",
    "\n",
    "* \n",
    "```\n",
    "checkBoolean:\n",
    "\n",
    "checkBoolean(jsValue:any)=>boolean:\n",
    "Verify that jsValue belongs to the set of boolean in JavaScript.\n",
    "\n",
    "    typeof jsValue === \"boolean\"\n",
    "```\n",
    "\n",
    "\n"
   ]
  },
  {
   "cell_type": "markdown",
   "metadata": {},
   "source": [
    "For compound type expressions - we need to check the JavaScript type of jsValue, verify what type of container it is (array or map), and if it matches the type denoted by `te` (array or map respectively) then, recursively, type check the components of the value.\n",
    "\n",
    "Note that in the recursive step, we break down jsValue using the JavaScript accessors of the JavaScript value container, and we break down the `te` type expression using the accessors of the Type Expression data type.\n",
    "\n",
    "For Array type expressions - this recursive method is defined as follows:\n",
    "```\n",
    "checkArray:\n",
    "checkArray(jsValue:any, te:TeArray)=>boolean:\n",
    "Verify the jsValue belongs to the set of array values denoted by te.\n",
    "\n",
    "    jsValue instanceof \"Array\" && every item in jsValue verifies\n",
    "        checkType(item, te.itemType)\n",
    "```"
   ]
  },
  {
   "cell_type": "markdown",
   "metadata": {},
   "source": [
    "#### Answer 3.3.2\n",
    "\n",
    "Complete the algorithm definition of:\n",
    "* checkMap\n",
    "\n",
    "checkMap(jsValue:any, te:TeMap)=>boolean:\n",
    "Verify the jsValue belongs to the set of map values denoted by te.\n",
    "\n",
    "    jsValue instanceof \"map\" && every key  in te map verifies\n",
    "        jsValue[t.key]!==undefined)&& \n",
    "         if(Object.keys(jsValue).length!==te.map.length)&&\n",
    "         and for each t in te.map we check :\n",
    "        typeCheck(jsValue[t.key],t.itemType)\n",
    "\n",
    "\n",
    "\n",
    "\n",
    "\n",
    "\n",
    "\n"
   ]
  },
  {
   "cell_type": "markdown",
   "metadata": {},
   "source": [
    "### Question 3.4 Implement the typeCheck function\n",
    "\n",
    "Implement in TypeScript the recursive typeCheck algorithm defined above.\n",
    "Use the `switch` method to manipulate disjoint union types as discussed in class."
   ]
  },
  {
   "cell_type": "code",
   "execution_count": 27,
   "metadata": {
    "collapsed": false
   },
   "outputs": [
    {
     "data": {
      "text/plain": [
       "true"
      ]
     },
     "execution_count": 27,
     "metadata": {},
     "output_type": "execute_result"
    }
   ],
   "source": [
    "const typeCheck : (jsValue:any, te:TE)=>boolean =\n",
    "    (jsValue, te) => {\n",
    "    switch(te.tag){\n",
    "    case \"number\": return checkNumber(jsValue); \n",
    "    case \"string\": return checkString(jsValue);\n",
    "    case \"boolean\": return checkBoolean(jsValue);\n",
    "    case \"array\":return checkArray(jsValue,te);\n",
    "    case \"map\":  return checkMap(jsValue,te);\n",
    "    }\n",
    "    return false;\n",
    "    }\n",
    "    const checkNumber:(jsValue:any)=>boolean=(jsValue)=>\n",
    "    {\n",
    "    return typeof jsValue==='number';\n",
    "    }\n",
    "    \n",
    "\n",
    "       const checkString:(jsValue:any)=>boolean=(jsValue)=>\n",
    "    {\n",
    "    return typeof jsValue==='string';\n",
    "    }\n",
    "    \n",
    "\n",
    "       const checkBoolean:(jsValue:any)=>boolean=(jsValue)=>\n",
    "    {\n",
    "    return typeof jsValue==='boolean';\n",
    "    }\n",
    "\n",
    "    const every:(pred:(x:any)=>boolean,arr:any)=>boolean=(pred,arr)=>\n",
    "{\n",
    "    return arr.map(pred).reduce((acc,curr) => { \n",
    "            return acc && curr;\n",
    "        }\n",
    "    , true);\n",
    "}\n",
    "    \n",
    " const checkArray:(jsValue:any, te:TeArray)=>boolean=(jsValue, te)=>\n",
    "    {\n",
    "   let x:boolean =(jsValue instanceof Array);\n",
    "    return x===false?\n",
    "    false:\n",
    "    every((t:any)=>{return typeCheck(t,te.itemType)},jsValue);\n",
    "    }\n",
    " \n",
    "  const checkMap:(jsValue:any, te:TeMap)=>boolean=(jsValue, te)=>{\n",
    "\n",
    "   let x:boolean = (jsValue instanceof Object)&&!(jsValue instanceof Array);\n",
    "    if( x===false)\n",
    "    return false;\n",
    "    if(Object.keys(jsValue).length!==te.map.length)\n",
    "        return false;\n",
    "   return every((t:any)=>{\n",
    "   return (jsValue[t.key]!==undefined)?\n",
    "   typeCheck(jsValue[t.key],t.itemType):\n",
    "    false;},te.map);\n",
    "   }\n",
    "\n"
   ]
  },
  {
   "cell_type": "code",
   "execution_count": 28,
   "metadata": {
    "collapsed": false
   },
   "outputs": [
    {
     "data": {
      "text/plain": [
       "undefined"
      ]
     },
     "execution_count": 28,
     "metadata": {},
     "output_type": "execute_result"
    }
   ],
   "source": [
    "// Test typeCheck with 10 good tests covering the code in increasing order of complexity.\n",
    "// Make sure to test positive and negative cases (cases where typeCheck returns true and false).\n",
    "\n",
    "\n",
    "// Test 0\n",
    "let a19:TeString=makeTeString();\n",
    "\n",
    "let a29:string=\"happy passover\";\n",
    "assert.deepEqual(typeCheck(a29, a19), true, \"error\");"
   ]
  },
  {
   "cell_type": "code",
   "execution_count": 29,
   "metadata": {
    "collapsed": false
   },
   "outputs": [
    {
     "data": {
      "text/plain": [
       "undefined"
      ]
     },
     "execution_count": 29,
     "metadata": {},
     "output_type": "execute_result"
    }
   ],
   "source": [
    "// Test 1\n",
    "let err13:(number|string)[]=[2,5,\"Hey!\"];\n",
    "let a4:TeNumber=makeTeNumber();\n",
    "let c4:TeArray=makeTeArray(a4);\n",
    "assert.deepEqual(typeCheck(err13, c4), false, \"error\");\n"
   ]
  },
  {
   "cell_type": "code",
   "execution_count": 30,
   "metadata": {
    "collapsed": false
   },
   "outputs": [
    {
     "data": {
      "text/plain": [
       "undefined"
      ]
     },
     "execution_count": 30,
     "metadata": {},
     "output_type": "execute_result"
    }
   ],
   "source": [
    "// Test 2\n",
    "let err1:number[]=[235,4];\n",
    "let a51:TeNumber=makeTeNumber();\n",
    "let a5:TeArray=makeTeArray(a51);\n",
    "assert.deepEqual(typeCheck(err1, a5), true, \"error\");\n"
   ]
  },
  {
   "cell_type": "code",
   "execution_count": 31,
   "metadata": {
    "collapsed": false
   },
   "outputs": [
    {
     "data": {
      "text/plain": [
       "undefined"
      ]
     },
     "execution_count": 31,
     "metadata": {},
     "output_type": "execute_result"
    }
   ],
   "source": [
    "\n",
    "// Test 3\n",
    "let a12:TeString=makeTeString();\n",
    "let a2:number=55555;\n",
    "assert.deepEqual(typeCheck(a2, a12), false, \"error\");\n"
   ]
  },
  {
   "cell_type": "code",
   "execution_count": 32,
   "metadata": {
    "collapsed": false
   },
   "outputs": [
    {
     "data": {
      "text/plain": [
       "undefined"
      ]
     },
     "execution_count": 32,
     "metadata": {},
     "output_type": "execute_result"
    }
   ],
   "source": [
    "// Test 4\n",
    "let c12:TeNumber=makeTeNumber();\n",
    "let cc:boolean=true;\n",
    "assert.deepEqual(typeCheck(cc, c12), false, \"error\");"
   ]
  },
  {
   "cell_type": "code",
   "execution_count": 33,
   "metadata": {
    "collapsed": false
   },
   "outputs": [
    {
     "data": {
      "text/plain": [
       "undefined"
      ]
     },
     "execution_count": 33,
     "metadata": {},
     "output_type": "execute_result"
    }
   ],
   "source": [
    "\n",
    "// Test 5\n",
    "let b:boolean[]=[true, false];\n",
    "let c21:TeArray=makeTeArray(makeTeArray(makeTeNumber()));\n",
    "let ma33:{key:string,itemType:TE}[]=[{key:\"b\", itemType:c21}];\n",
    "\n",
    "let map10:TeMap=makeTeMap(ma33);\n",
    "assert.deepEqual(typeCheck(b, map10), false, \"error\");"
   ]
  },
  {
   "cell_type": "code",
   "execution_count": 34,
   "metadata": {
    "collapsed": false
   },
   "outputs": [
    {
     "data": {
      "text/plain": [
       "undefined"
      ]
     },
     "execution_count": 34,
     "metadata": {},
     "output_type": "execute_result"
    }
   ],
   "source": [
    "// Test 6\n",
    "let x:TeNumber=makeTeNumber();\n",
    "let c222:TeArray=makeTeArray(makeTeArray(x));\n",
    "let test1:number[][]=[[1,2,3], [4,5,6], [7,8,9]];\n",
    "assert.deepEqual(typeCheck(test1, c222), true, \"error\");"
   ]
  },
  {
   "cell_type": "code",
   "execution_count": 35,
   "metadata": {
    "collapsed": false
   },
   "outputs": [
    {
     "data": {
      "text/plain": [
       "undefined"
      ]
     },
     "execution_count": 35,
     "metadata": {},
     "output_type": "execute_result"
    }
   ],
   "source": [
    "//Test 7\n",
    "let a15:TeString=makeTeString();\n",
    "let c15:TeBoolean=makeTeBoolean();\n",
    "let c25:TeArray=makeTeArray(makeTeMap([{key:\"a15\", itemType:a15}]));\n",
    "let ma55:{key:string,itemType:TE}[]=[{key:\"c15\", itemType:c15},{key:\"c25\", itemType:c25}];\n",
    "let c55:TeMap=makeTeMap(ma55);\n",
    "let b115:TeArray=makeTeArray(c55);\n",
    "let test55:{c15, c25}[]=[{c15:true,c25:[{a15:\" v\"}]}]\n",
    "assert.deepEqual(typeCheck(test55,b115), true, \"error\");\n"
   ]
  },
  {
   "cell_type": "code",
   "execution_count": 36,
   "metadata": {
    "collapsed": false
   },
   "outputs": [
    {
     "data": {
      "text/plain": [
       "undefined"
      ]
     },
     "execution_count": 36,
     "metadata": {},
     "output_type": "execute_result"
    }
   ],
   "source": [
    "// Test 8\n",
    "let a16:TeString=makeTeString();\n",
    "let c16:TeBoolean=makeTeBoolean();\n",
    "let c26:TeArray=makeTeArray(makeTeArray(a16));\n",
    "let ma666:{key:string,itemType:TE}[]=[{key:\"c16\", itemType:c16},{key:\"c26\", itemType:c26}];\n",
    "let c66:TeMap=makeTeMap(ma666);\n",
    "let test66:{c16}={c16:true};\n",
    "\n",
    "assert.deepEqual(typeCheck(test66,c66), false, \"error\");\n"
   ]
  },
  {
   "cell_type": "code",
   "execution_count": 37,
   "metadata": {
    "collapsed": false
   },
   "outputs": [
    {
     "data": {
      "text/plain": [
       "undefined"
      ]
     },
     "execution_count": 37,
     "metadata": {},
     "output_type": "execute_result"
    }
   ],
   "source": [
    "// Test 9\n",
    "  \n",
    "let a1:TeString=makeTeString();\n",
    "let c1:TeBoolean=makeTeBoolean();\n",
    "let c2:TeArray=makeTeArray(makeTeArray(a1));\n",
    "let arr:TE[]=[c1, c2];\n",
    "let ma:{key:string,itemType:TE}[]=[{key:\"c1\", itemType:c1},{key:\"c2\", itemType:c2}];\n",
    "let c:TeMap=makeTeMap(ma);\n",
    "let b11:TeArray=makeTeArray(c);\n",
    "let test:{c1, c2}[]=[{c1:true,c2:[[\"zohar\"], [\"or\"]]},{c1:false,c2:[[\"Hello\"], [\"world\"]]}] ;\n",
    "assert.deepEqual(typeCheck(test,b11), true, \"error\");\n",
    "\n",
    "\n",
    "\n"
   ]
  },
  {
   "cell_type": "code",
   "execution_count": null,
   "metadata": {
    "collapsed": true
   },
   "outputs": [],
   "source": []
  },
  {
   "cell_type": "code",
   "execution_count": null,
   "metadata": {
    "collapsed": true
   },
   "outputs": [],
   "source": []
  },
  {
   "cell_type": "code",
   "execution_count": null,
   "metadata": {
    "collapsed": true
   },
   "outputs": [],
   "source": []
  },
  {
   "cell_type": "code",
   "execution_count": null,
   "metadata": {
    "collapsed": true
   },
   "outputs": [],
   "source": []
  }
 ],
 "metadata": {
  "anaconda-cloud": {},
  "kernelspec": {
   "display_name": "Typescript 2.2",
   "language": "typescript",
   "name": "typescript"
  },
  "language_info": {
   "file_extension": ".ts",
   "mimetype": "text/x-typescript",
   "name": "typescript",
   "version": "2.2.2"
  }
 },
 "nbformat": 4,
 "nbformat_minor": 1
}
